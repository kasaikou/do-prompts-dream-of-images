{
 "cells": [
  {
   "cell_type": "code",
   "execution_count": null,
   "id": "cf4b3613",
   "metadata": {},
   "outputs": [],
   "source": [
    "import torch"
   ]
  },
  {
   "cell_type": "code",
   "execution_count": null,
   "id": "3d7b7100",
   "metadata": {},
   "outputs": [],
   "source": [
    "# torch (cuda)\n",
    "print(f\"torch status: {torch.__version__=}\")\n",
    "print(f\"{torch.cuda.is_available()=}\")\n",
    "if torch.cuda.is_available():\n",
    "    print(f\"{torch.cuda.get_device_name()=}\")\n",
    "    print(f\"{torch.cuda.get_device_capability()=}\")"
   ]
  }
 ],
 "metadata": {
  "jupytext": {
   "cell_metadata_filter": "-all",
   "formats": "@/ipynb,docs//md,py:percent"
  },
  "kernelspec": {
   "display_name": "Python 3.10.6 ('.container-venv': venv)",
   "language": "python",
   "name": "python3"
  },
  "language_info": {
   "name": "python",
   "version": "3.10.6"
  },
  "vscode": {
   "interpreter": {
    "hash": "ec8093302d2b2b39596a0174ccc95b7ceecfe2fda2c3ce667a987bcd58a40e17"
   }
  }
 },
 "nbformat": 4,
 "nbformat_minor": 5
}
